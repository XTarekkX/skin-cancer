{
 "cells": [
  {
   "cell_type": "code",
   "execution_count": 1,
   "id": "d92877cc",
   "metadata": {
    "execution": {
     "iopub.execute_input": "2025-03-26T00:09:36.104839Z",
     "iopub.status.busy": "2025-03-26T00:09:36.104573Z",
     "iopub.status.idle": "2025-03-26T00:09:45.394472Z",
     "shell.execute_reply": "2025-03-26T00:09:45.393807Z"
    },
    "papermill": {
     "duration": 9.297123,
     "end_time": "2025-03-26T00:09:45.395962",
     "exception": false,
     "start_time": "2025-03-26T00:09:36.098839",
     "status": "completed"
    },
    "tags": []
   },
   "outputs": [],
   "source": [
    "import os\n",
    "import torch\n",
    "from torch.utils.data import DataLoader, Dataset, random_split\n",
    "from torchvision import transforms\n",
    "from PIL import Image\n",
    "import pandas as pd\n",
    "from sklearn.model_selection import train_test_split\n",
    "import torch.nn as nn\n",
    "import torchvision.models as models\n",
    "import numpy as np\n",
    "import torch.optim as optim\n",
    "from sklearn.metrics import classification_report, confusion_matrix\n",
    "import matplotlib.pyplot as plt\n",
    "from torchinfo import summary\n",
    "from sklearn.metrics import confusion_matrix, precision_score, recall_score, f1_score"
   ]
  },
  {
   "cell_type": "markdown",
   "id": "586fb373",
   "metadata": {
    "papermill": {
     "duration": 0.004119,
     "end_time": "2025-03-26T00:09:45.404705",
     "exception": false,
     "start_time": "2025-03-26T00:09:45.400586",
     "status": "completed"
    },
    "tags": []
   },
   "source": [
    "# **data loading & processing**"
   ]
  },
  {
   "cell_type": "code",
   "execution_count": 2,
   "id": "8fad41af",
   "metadata": {
    "execution": {
     "iopub.execute_input": "2025-03-26T00:09:45.413812Z",
     "iopub.status.busy": "2025-03-26T00:09:45.413348Z",
     "iopub.status.idle": "2025-03-26T00:09:45.416423Z",
     "shell.execute_reply": "2025-03-26T00:09:45.415852Z"
    },
    "papermill": {
     "duration": 0.009042,
     "end_time": "2025-03-26T00:09:45.417689",
     "exception": false,
     "start_time": "2025-03-26T00:09:45.408647",
     "status": "completed"
    },
    "tags": []
   },
   "outputs": [],
   "source": [
    "images_dir = \"/kaggle/input/ham1000-segmentation-and-classification/images\" \n",
    "masks_dir = \"/kaggle/input/ham1000-segmentation-and-classification/masks\"    \n",
    "csv_file = \"/kaggle/input/ham1000-segmentation-and-classification/GroundTruth.csv\""
   ]
  },
  {
   "cell_type": "code",
   "execution_count": null,
   "id": "d4b9c272",
   "metadata": {
    "execution": {
     "iopub.execute_input": "2025-03-26T00:09:45.426388Z",
     "iopub.status.busy": "2025-03-26T00:09:45.426182Z",
     "iopub.status.idle": "2025-03-26T00:09:45.771594Z",
     "shell.execute_reply": "2025-03-26T00:09:45.770703Z"
    },
    "papermill": {
     "duration": 0.351115,
     "end_time": "2025-03-26T00:09:45.773015",
     "exception": false,
     "start_time": "2025-03-26T00:09:45.421900",
     "status": "completed"
    },
    "tags": []
   },
   "outputs": [],
   "source": [
    "data = pd.read_csv(csv_file)\n",
    "\n",
    "# Ensure labels are numeric\n",
    "disease_names = ['MEL', 'NV', 'BCC', 'AKIEC', 'BKL', 'DF', 'VASC']\n",
    "data[disease_names] = data[disease_names].apply(pd.to_numeric, errors='coerce')\n",
    "\n",
    "# Data Visualization\n",
    "plt.figure(figsize=(10, 6))\n",
    "data[disease_names].sum().plot(kind='bar', color='skyblue', edgecolor='black')\n",
    "plt.title('Count of Each Disease')\n",
    "plt.ylabel('Count')\n",
    "plt.xlabel('Diseases')\n",
    "plt.xticks(rotation=45)\n",
    "plt.grid(axis='y', linestyle='--', alpha=0.7)\n",
    "plt.show()"
   ]
  },
  {
   "cell_type": "code",
   "execution_count": 4,
   "id": "ee8518c2",
   "metadata": {
    "execution": {
     "iopub.execute_input": "2025-03-26T00:09:45.784010Z",
     "iopub.status.busy": "2025-03-26T00:09:45.783771Z",
     "iopub.status.idle": "2025-03-26T00:09:49.990918Z",
     "shell.execute_reply": "2025-03-26T00:09:49.990101Z"
    },
    "papermill": {
     "duration": 4.214274,
     "end_time": "2025-03-26T00:09:49.992614",
     "exception": false,
     "start_time": "2025-03-26T00:09:45.778340",
     "status": "completed"
    },
    "tags": []
   },
   "outputs": [],
   "source": [
    "dataset = []\n",
    "for idx, row in data.iterrows():\n",
    "    image_id = row['image']\n",
    "    label = torch.tensor(row[disease_names].values.astype(float), dtype=torch.float32)\n",
    "    img_path = os.path.join(images_dir, f\"{image_id}.jpg\")\n",
    "    mask_path = os.path.join(masks_dir, f\"{image_id}_segmentation.png\")\n",
    "    dataset.append((img_path, mask_path, label))\n",
    "\n",
    "# Split Data\n",
    "train_data, test_data = train_test_split(dataset, test_size=0.2, random_state=42)\n",
    "train_data, val_data = train_test_split(train_data, test_size=0.25, random_state=42)"
   ]
  },
  {
   "cell_type": "code",
   "execution_count": 5,
   "id": "61439e85",
   "metadata": {
    "execution": {
     "iopub.execute_input": "2025-03-26T00:09:50.004119Z",
     "iopub.status.busy": "2025-03-26T00:09:50.003855Z",
     "iopub.status.idle": "2025-03-26T00:09:50.007717Z",
     "shell.execute_reply": "2025-03-26T00:09:50.006876Z"
    },
    "papermill": {
     "duration": 0.010819,
     "end_time": "2025-03-26T00:09:50.008922",
     "exception": false,
     "start_time": "2025-03-26T00:09:49.998103",
     "status": "completed"
    },
    "tags": []
   },
   "outputs": [],
   "source": [
    "transform = {\n",
    "    \"image\": transforms.Compose([\n",
    "        transforms.Resize((128, 128)),\n",
    "        transforms.ToTensor()\n",
    "    ]),\n",
    "    \"mask\": transforms.Compose([\n",
    "        transforms.Resize((128, 128)),\n",
    "        transforms.ToTensor()\n",
    "    ])\n",
    "}"
   ]
  },
  {
   "cell_type": "code",
   "execution_count": 6,
   "id": "5b2a1df0",
   "metadata": {
    "execution": {
     "iopub.execute_input": "2025-03-26T00:09:50.019840Z",
     "iopub.status.busy": "2025-03-26T00:09:50.019591Z",
     "iopub.status.idle": "2025-03-26T00:09:50.024705Z",
     "shell.execute_reply": "2025-03-26T00:09:50.023900Z"
    },
    "papermill": {
     "duration": 0.011962,
     "end_time": "2025-03-26T00:09:50.025955",
     "exception": false,
     "start_time": "2025-03-26T00:09:50.013993",
     "status": "completed"
    },
    "tags": []
   },
   "outputs": [],
   "source": [
    "# Ensure labels are binary\n",
    "def process_sample(data_entry, transform):\n",
    "    img_path, mask_path, label = data_entry\n",
    "    image = transform[\"image\"](Image.open(img_path).convert(\"RGB\"))\n",
    "    mask = transform[\"mask\"](Image.open(mask_path).convert(\"L\"))\n",
    "    \n",
    "    label = (label > 0).float()  # Ensure binary labels (0 or 1)\n",
    "    \n",
    "    return image, mask, label\n",
    "\n",
    "# Create Dataloader function\n",
    "def create_dataloader(data, batch_size, shuffle):\n",
    "    processed_data = [process_sample(entry, transform) for entry in data]\n",
    "    images, masks, labels = zip(*processed_data)\n",
    "    return DataLoader(torch.utils.data.TensorDataset(torch.stack(images), torch.stack(masks), torch.stack(labels)), batch_size=batch_size, shuffle=shuffle)"
   ]
  },
  {
   "cell_type": "code",
   "execution_count": 7,
   "id": "7a8cbfc6",
   "metadata": {
    "execution": {
     "iopub.execute_input": "2025-03-26T00:09:50.036362Z",
     "iopub.status.busy": "2025-03-26T00:09:50.036146Z",
     "iopub.status.idle": "2025-03-26T00:13:32.409397Z",
     "shell.execute_reply": "2025-03-26T00:13:32.408636Z"
    },
    "papermill": {
     "duration": 222.380399,
     "end_time": "2025-03-26T00:13:32.411153",
     "exception": false,
     "start_time": "2025-03-26T00:09:50.030754",
     "status": "completed"
    },
    "tags": []
   },
   "outputs": [],
   "source": [
    "batch_size = 16\n",
    "train_loader = create_dataloader(train_data, batch_size, True)\n",
    "val_loader = create_dataloader(val_data, batch_size, False)\n",
    "test_loader = create_dataloader(test_data, batch_size, False)\n"
   ]
  },
  {
   "cell_type": "code",
   "execution_count": null,
   "id": "3c362ed5",
   "metadata": {
    "execution": {
     "iopub.execute_input": "2025-03-26T00:13:32.422240Z",
     "iopub.status.busy": "2025-03-26T00:13:32.422011Z",
     "iopub.status.idle": "2025-03-26T00:13:33.896467Z",
     "shell.execute_reply": "2025-03-26T00:13:33.895578Z"
    },
    "papermill": {
     "duration": 1.483705,
     "end_time": "2025-03-26T00:13:33.900477",
     "exception": false,
     "start_time": "2025-03-26T00:13:32.416772",
     "status": "completed"
    },
    "tags": []
   },
   "outputs": [],
   "source": [
    "def show_samples(dataloader, title):\n",
    "    batch = next(iter(dataloader))\n",
    "    images, masks, labels = batch\n",
    "    fig, axes = plt.subplots(1, 5, figsize=(15, 5))\n",
    "    fig.suptitle(title)\n",
    "    for i in range(5):\n",
    "        img = images[i].permute(1, 2, 0).numpy()\n",
    "        lbl = labels[i].numpy()\n",
    "        axes[i].imshow(img)\n",
    "        axes[i].set_title(f\"Label: {np.argmax(lbl)}\")\n",
    "        axes[i].axis(\"off\")\n",
    "    plt.show()\n",
    "\n",
    "# Show samples\n",
    "show_samples(train_loader, \"Train Samples\")\n",
    "show_samples(val_loader, \"Validation Samples\")\n",
    "show_samples(test_loader, \"Test Samples\")"
   ]
  },
  {
   "cell_type": "markdown",
   "id": "0e76579c",
   "metadata": {
    "papermill": {
     "duration": 0.017715,
     "end_time": "2025-03-26T00:13:33.937411",
     "exception": false,
     "start_time": "2025-03-26T00:13:33.919696",
     "status": "completed"
    },
    "tags": []
   },
   "source": [
    "# model loading and training"
   ]
  },
  {
   "cell_type": "code",
   "execution_count": 9,
   "id": "781f969e",
   "metadata": {
    "execution": {
     "iopub.execute_input": "2025-03-26T00:13:33.973857Z",
     "iopub.status.busy": "2025-03-26T00:13:33.973594Z",
     "iopub.status.idle": "2025-03-26T00:13:34.991175Z",
     "shell.execute_reply": "2025-03-26T00:13:34.990216Z"
    },
    "papermill": {
     "duration": 1.037671,
     "end_time": "2025-03-26T00:13:34.992939",
     "exception": false,
     "start_time": "2025-03-26T00:13:33.955268",
     "status": "completed"
    },
    "tags": []
   },
   "outputs": [
    {
     "name": "stderr",
     "output_type": "stream",
     "text": [
      "/usr/local/lib/python3.10/dist-packages/torchvision/models/_utils.py:208: UserWarning: The parameter 'pretrained' is deprecated since 0.13 and may be removed in the future, please use 'weights' instead.\n",
      "  warnings.warn(\n",
      "/usr/local/lib/python3.10/dist-packages/torchvision/models/_utils.py:223: UserWarning: Arguments other than a weight enum or `None` for 'weights' are deprecated since 0.13 and may be removed in the future. The current behavior is equivalent to passing `weights=ResNet50_Weights.IMAGENET1K_V1`. You can also use `weights=ResNet50_Weights.DEFAULT` to get the most up-to-date weights.\n",
      "  warnings.warn(msg)\n",
      "Downloading: \"https://download.pytorch.org/models/resnet50-0676ba61.pth\" to /root/.cache/torch/hub/checkpoints/resnet50-0676ba61.pth\n",
      "100%|██████████| 97.8M/97.8M [00:00<00:00, 209MB/s]\n"
     ]
    }
   ],
   "source": [
    "model = models.resnet50(pretrained=True)\n",
    "num_features = model.fc.in_features  # Fix: Define num_features\n",
    "num_classes = 7"
   ]
  },
  {
   "cell_type": "code",
   "execution_count": 10,
   "id": "4898d8fb",
   "metadata": {
    "execution": {
     "iopub.execute_input": "2025-03-26T00:13:35.037261Z",
     "iopub.status.busy": "2025-03-26T00:13:35.037005Z",
     "iopub.status.idle": "2025-03-26T00:13:35.041014Z",
     "shell.execute_reply": "2025-03-26T00:13:35.040369Z"
    },
    "papermill": {
     "duration": 0.026715,
     "end_time": "2025-03-26T00:13:35.042161",
     "exception": false,
     "start_time": "2025-03-26T00:13:35.015446",
     "status": "completed"
    },
    "tags": []
   },
   "outputs": [],
   "source": [
    "for param in model.parameters():\n",
    "    param.requires_grad = False  # Freeze all layers\n",
    "\n",
    "for param in model.fc.parameters():\n",
    "    param.requires_grad = True  # Train only final layers\n"
   ]
  },
  {
   "cell_type": "code",
   "execution_count": 11,
   "id": "7b11ad5e",
   "metadata": {
    "execution": {
     "iopub.execute_input": "2025-03-26T00:13:35.081270Z",
     "iopub.status.busy": "2025-03-26T00:13:35.081027Z",
     "iopub.status.idle": "2025-03-26T00:13:35.154055Z",
     "shell.execute_reply": "2025-03-26T00:13:35.153360Z"
    },
    "papermill": {
     "duration": 0.093926,
     "end_time": "2025-03-26T00:13:35.155349",
     "exception": false,
     "start_time": "2025-03-26T00:13:35.061423",
     "status": "completed"
    },
    "tags": []
   },
   "outputs": [],
   "source": [
    "device = torch.device(\"cuda\" if torch.cuda.is_available() else \"cpu\")\n"
   ]
  },
  {
   "cell_type": "markdown",
   "id": "03074420",
   "metadata": {
    "papermill": {
     "duration": 0.019486,
     "end_time": "2025-03-26T00:13:35.195349",
     "exception": false,
     "start_time": "2025-03-26T00:13:35.175863",
     "status": "completed"
    },
    "tags": []
   },
   "source": [
    "calculating class weights to help with imbalance"
   ]
  },
  {
   "cell_type": "markdown",
   "id": "aecb329c",
   "metadata": {
    "papermill": {
     "duration": 0.020231,
     "end_time": "2025-03-26T00:13:35.235360",
     "exception": false,
     "start_time": "2025-03-26T00:13:35.215129",
     "status": "completed"
    },
    "tags": []
   },
   "source": [
    "focal loss instead with BCEwithLogits to help also with imbalance"
   ]
  },
  {
   "cell_type": "code",
   "execution_count": 12,
   "id": "70c44754",
   "metadata": {
    "execution": {
     "iopub.execute_input": "2025-03-26T00:13:35.275662Z",
     "iopub.status.busy": "2025-03-26T00:13:35.275327Z",
     "iopub.status.idle": "2025-03-26T00:13:35.716260Z",
     "shell.execute_reply": "2025-03-26T00:13:35.715331Z"
    },
    "papermill": {
     "duration": 0.463253,
     "end_time": "2025-03-26T00:13:35.717742",
     "exception": false,
     "start_time": "2025-03-26T00:13:35.254489",
     "status": "completed"
    },
    "tags": []
   },
   "outputs": [
    {
     "name": "stdout",
     "output_type": "stream",
     "text": [
      "Class Weights: tensor([ 1.2855,  0.2134,  2.7835,  4.3753,  1.3018, 12.4410, 10.0755],\n",
      "       device='cuda:0')\n"
     ]
    }
   ],
   "source": [
    "import torch\n",
    "import torch.nn as nn\n",
    "import torch.optim as optim\n",
    "import numpy as np\n",
    "from sklearn.utils.class_weight import compute_class_weight\n",
    "\n",
    "# Compute class weights\n",
    "all_labels = [torch.argmax(label).item() for _, _, label in dataset]  # Extract class index\n",
    "class_weights = compute_class_weight(class_weight=\"balanced\", classes=np.unique(all_labels), y=all_labels)\n",
    "class_weights = torch.tensor(class_weights, dtype=torch.float32).to(device)  # Convert to tensor\n",
    "print(\"Class Weights:\", class_weights)\n",
    "\n",
    "class FocalLoss(nn.Module):\n",
    "    def __init__(self, alpha=None, gamma=2.0, reduction='mean'):\n",
    "        super(FocalLoss, self).__init__()\n",
    "        self.alpha = alpha\n",
    "        self.gamma = gamma\n",
    "        self.reduction = reduction\n",
    "\n",
    "    def forward(self, inputs, targets):\n",
    "        BCE_loss = nn.functional.binary_cross_entropy_with_logits(inputs, targets, reduction='none')\n",
    "        pt = torch.exp(-BCE_loss)  # Compute probability of correct classification\n",
    "        focal_loss = (1 - pt) ** self.gamma * BCE_loss  # Apply focal term\n",
    "\n",
    "        if self.alpha is not None:\n",
    "            focal_loss *= self.alpha\n",
    "\n",
    "        if self.reduction == 'mean':\n",
    "            return focal_loss.mean()\n",
    "        elif self.reduction == 'sum':\n",
    "            return focal_loss.sum()\n",
    "        else:\n",
    "            return focal_loss"
   ]
  },
  {
   "cell_type": "code",
   "execution_count": 13,
   "id": "c4fdb845",
   "metadata": {
    "execution": {
     "iopub.execute_input": "2025-03-26T00:13:35.760115Z",
     "iopub.status.busy": "2025-03-26T00:13:35.759847Z",
     "iopub.status.idle": "2025-03-26T00:13:35.770195Z",
     "shell.execute_reply": "2025-03-26T00:13:35.769601Z"
    },
    "papermill": {
     "duration": 0.032603,
     "end_time": "2025-03-26T00:13:35.771508",
     "exception": false,
     "start_time": "2025-03-26T00:13:35.738905",
     "status": "completed"
    },
    "tags": []
   },
   "outputs": [],
   "source": [
    "model.fc = nn.Sequential(\n",
    "    nn.Linear(num_features, 512),\n",
    "    nn.ReLU(),\n",
    "    nn.Dropout(0.7),\n",
    "    nn.Linear(512, num_classes) \n",
    ")"
   ]
  },
  {
   "cell_type": "code",
   "execution_count": 14,
   "id": "ffe4659f",
   "metadata": {
    "execution": {
     "iopub.execute_input": "2025-03-26T00:13:35.811416Z",
     "iopub.status.busy": "2025-03-26T00:13:35.811140Z",
     "iopub.status.idle": "2025-03-26T00:13:35.814276Z",
     "shell.execute_reply": "2025-03-26T00:13:35.813631Z"
    },
    "papermill": {
     "duration": 0.024324,
     "end_time": "2025-03-26T00:13:35.815610",
     "exception": false,
     "start_time": "2025-03-26T00:13:35.791286",
     "status": "completed"
    },
    "tags": []
   },
   "outputs": [],
   "source": [
    "criterion = FocalLoss(alpha=class_weights, gamma=2, reduction='mean')"
   ]
  },
  {
   "cell_type": "code",
   "execution_count": 15,
   "id": "bd79f495",
   "metadata": {
    "execution": {
     "iopub.execute_input": "2025-03-26T00:13:35.856393Z",
     "iopub.status.busy": "2025-03-26T00:13:35.856115Z",
     "iopub.status.idle": "2025-03-26T00:13:35.898245Z",
     "shell.execute_reply": "2025-03-26T00:13:35.897607Z"
    },
    "papermill": {
     "duration": 0.063954,
     "end_time": "2025-03-26T00:13:35.899675",
     "exception": false,
     "start_time": "2025-03-26T00:13:35.835721",
     "status": "completed"
    },
    "tags": []
   },
   "outputs": [],
   "source": [
    "model = model.to(device)"
   ]
  },
  {
   "cell_type": "code",
   "execution_count": 16,
   "id": "4272aba6",
   "metadata": {
    "execution": {
     "iopub.execute_input": "2025-03-26T00:13:35.942634Z",
     "iopub.status.busy": "2025-03-26T00:13:35.942346Z",
     "iopub.status.idle": "2025-03-26T00:13:35.946670Z",
     "shell.execute_reply": "2025-03-26T00:13:35.946054Z"
    },
    "papermill": {
     "duration": 0.026861,
     "end_time": "2025-03-26T00:13:35.947920",
     "exception": false,
     "start_time": "2025-03-26T00:13:35.921059",
     "status": "completed"
    },
    "tags": []
   },
   "outputs": [],
   "source": [
    "optimizer = optim.Adam(model.parameters(), lr=0.0001, weight_decay=1e-3)\n",
    "\n",
    "# Early stopping settings\n",
    "early_stopping_patience = 5\n",
    "epochs = 50\n",
    "train_losses, val_losses = [], []"
   ]
  },
  {
   "cell_type": "code",
   "execution_count": 17,
   "id": "3738883e",
   "metadata": {
    "execution": {
     "iopub.execute_input": "2025-03-26T00:13:35.990821Z",
     "iopub.status.busy": "2025-03-26T00:13:35.990585Z",
     "iopub.status.idle": "2025-03-26T00:13:35.997437Z",
     "shell.execute_reply": "2025-03-26T00:13:35.996611Z"
    },
    "papermill": {
     "duration": 0.030352,
     "end_time": "2025-03-26T00:13:35.998911",
     "exception": false,
     "start_time": "2025-03-26T00:13:35.968559",
     "status": "completed"
    },
    "tags": []
   },
   "outputs": [],
   "source": [
    "def train_and_validate(model, criterion, optimizer, train_loader, val_loader, epochs, patience, device):\n",
    "    best_val_loss = float('inf')\n",
    "    patience_counter = 0\n",
    "\n",
    "    for epoch in range(epochs):\n",
    "        model.train()\n",
    "        train_loss = 0.0\n",
    "        for inputs, _, labels in train_loader:\n",
    "            inputs, labels = inputs.to(device), labels.to(device).float()\n",
    "            optimizer.zero_grad()\n",
    "            outputs = model(inputs)\n",
    "            loss = criterion(outputs, labels)\n",
    "            loss.backward()\n",
    "            optimizer.step()\n",
    "            train_loss += loss.item()\n",
    "\n",
    "        # Validation\n",
    "        val_loss = 0.0\n",
    "        model.eval()\n",
    "        with torch.no_grad():\n",
    "            for inputs, _, labels in val_loader:\n",
    "                inputs, labels = inputs.to(device), labels.to(device).float()\n",
    "                outputs = model(inputs)\n",
    "                loss = criterion(outputs, labels)\n",
    "                val_loss += loss.item()\n",
    "\n",
    "        train_losses.append(train_loss / len(train_loader))\n",
    "        val_losses.append(val_loss / len(val_loader))\n",
    "        print(f\"Epoch {epoch+1}, Train Loss: {train_loss:.4f}, Val Loss: {val_loss:.4f}\")\n",
    "\n",
    "        # Early Stopping\n",
    "        if val_loss < best_val_loss:\n",
    "            best_val_loss = val_loss\n",
    "            torch.save(model.state_dict(), 'best_model.pth')\n",
    "            patience_counter = 0\n",
    "        else:\n",
    "            patience_counter += 1\n",
    "            if patience_counter >= patience:\n",
    "                print(\"Early stopping triggered!\")\n",
    "                break"
   ]
  },
  {
   "cell_type": "code",
   "execution_count": 18,
   "id": "d3a4c7cc",
   "metadata": {
    "execution": {
     "iopub.execute_input": "2025-03-26T00:13:36.041662Z",
     "iopub.status.busy": "2025-03-26T00:13:36.041399Z",
     "iopub.status.idle": "2025-03-26T00:16:20.450119Z",
     "shell.execute_reply": "2025-03-26T00:16:20.449129Z"
    },
    "papermill": {
     "duration": 164.45401,
     "end_time": "2025-03-26T00:16:20.473616",
     "exception": false,
     "start_time": "2025-03-26T00:13:36.019606",
     "status": "completed"
    },
    "tags": []
   },
   "outputs": [
    {
     "name": "stdout",
     "output_type": "stream",
     "text": [
      "Epoch 1, Train Loss: 65.1466, Val Loss: 16.7582\n",
      "Epoch 2, Train Loss: 48.6328, Val Loss: 14.4355\n",
      "Epoch 3, Train Loss: 43.7386, Val Loss: 14.1137\n",
      "Epoch 4, Train Loss: 40.7794, Val Loss: 13.7917\n",
      "Epoch 5, Train Loss: 40.2157, Val Loss: 12.5035\n",
      "Epoch 6, Train Loss: 39.5193, Val Loss: 12.6365\n",
      "Epoch 7, Train Loss: 37.1121, Val Loss: 12.5162\n",
      "Epoch 8, Train Loss: 36.9226, Val Loss: 11.8736\n",
      "Epoch 9, Train Loss: 36.0074, Val Loss: 13.0001\n",
      "Epoch 10, Train Loss: 35.9032, Val Loss: 11.9224\n",
      "Epoch 11, Train Loss: 34.3112, Val Loss: 11.6472\n",
      "Epoch 12, Train Loss: 34.8901, Val Loss: 11.7152\n",
      "Epoch 13, Train Loss: 34.9290, Val Loss: 11.7004\n",
      "Epoch 14, Train Loss: 34.1246, Val Loss: 12.0438\n",
      "Epoch 15, Train Loss: 34.2631, Val Loss: 12.3343\n",
      "Epoch 16, Train Loss: 33.1542, Val Loss: 11.8796\n",
      "Early stopping triggered!\n"
     ]
    }
   ],
   "source": [
    "train_and_validate(model, criterion, optimizer, train_loader, val_loader, epochs, early_stopping_patience, device)"
   ]
  },
  {
   "cell_type": "code",
   "execution_count": null,
   "id": "2af62f23",
   "metadata": {
    "execution": {
     "iopub.execute_input": "2025-03-26T00:16:20.517078Z",
     "iopub.status.busy": "2025-03-26T00:16:20.516807Z",
     "iopub.status.idle": "2025-03-26T00:16:20.693976Z",
     "shell.execute_reply": "2025-03-26T00:16:20.693049Z"
    },
    "papermill": {
     "duration": 0.200844,
     "end_time": "2025-03-26T00:16:20.695221",
     "exception": false,
     "start_time": "2025-03-26T00:16:20.494377",
     "status": "completed"
    },
    "tags": []
   },
   "outputs": [],
   "source": [
    "\n",
    "plt.figure(figsize=(6, 4))\n",
    "plt.plot(train_losses, label=\"Train Loss\", linestyle=\"-\", color=\"blue\")\n",
    "plt.plot(val_losses, label=\"Validation Loss\", linestyle=\"--\", color=\"orange\")\n",
    "plt.xlabel(\"Epochs\")\n",
    "plt.ylabel(\"Loss\")\n",
    "plt.legend()\n",
    "plt.title(\"Training and Validation Loss\")\n",
    "plt.show()\n"
   ]
  },
  {
   "cell_type": "markdown",
   "id": "0587d2ac",
   "metadata": {
    "papermill": {
     "duration": 0.020346,
     "end_time": "2025-03-26T00:16:20.736584",
     "exception": false,
     "start_time": "2025-03-26T00:16:20.716238",
     "status": "completed"
    },
    "tags": []
   },
   "source": [
    "# Results"
   ]
  },
  {
   "cell_type": "code",
   "execution_count": null,
   "id": "bbb23b36",
   "metadata": {
    "execution": {
     "iopub.execute_input": "2025-03-26T00:16:20.778426Z",
     "iopub.status.busy": "2025-03-26T00:16:20.778160Z",
     "iopub.status.idle": "2025-03-26T00:16:24.026902Z",
     "shell.execute_reply": "2025-03-26T00:16:24.026012Z"
    },
    "papermill": {
     "duration": 3.27156,
     "end_time": "2025-03-26T00:16:24.028572",
     "exception": false,
     "start_time": "2025-03-26T00:16:20.757012",
     "status": "completed"
    },
    "tags": []
   },
   "outputs": [],
   "source": [
    "import seaborn as sns\n",
    "import matplotlib.pyplot as plt\n",
    "from sklearn.metrics import confusion_matrix\n",
    "from sklearn.metrics import accuracy_score\n",
    "\n",
    "\n",
    "def plot_confusion_matrix(y_true, y_pred, class_names):\n",
    "    cm = confusion_matrix(np.argmax(y_true, axis=1), np.argmax(y_pred, axis=1))\n",
    "    \n",
    "    plt.figure(figsize=(8, 6))\n",
    "    sns.heatmap(cm, annot=True, fmt=\"d\", cmap=\"Blues\", xticklabels=class_names, yticklabels=class_names)\n",
    "    plt.xlabel(\"Predicted Labels\")\n",
    "    plt.ylabel(\"True Labels\")\n",
    "    plt.title(\"Confusion Matrix\")\n",
    "    plt.show()\n",
    "\n",
    "def evaluate_model(model, test_loader, device):\n",
    "    model.load_state_dict(torch.load(\"best_model.pth\"))\n",
    "    model.eval()\n",
    "    \n",
    "    y_true, y_pred = [], []\n",
    "    \n",
    "    with torch.no_grad():\n",
    "        for inputs, _, labels in test_loader:\n",
    "            inputs, labels = inputs.to(device), labels.to(device)\n",
    "            outputs = torch.sigmoid(model(inputs))  # Convert logits to probabilities\n",
    "            predicted = (outputs > 0.5).float()  # Convert to binary predictions\n",
    "            \n",
    "            y_true.extend(labels.cpu().numpy())\n",
    "            y_pred.extend(predicted.cpu().numpy())\n",
    "    \n",
    "    y_true = np.array(y_true)\n",
    "    y_pred = np.array(y_pred)\n",
    "\n",
    "    accuracy = accuracy_score(np.argmax(y_true, axis=1), np.argmax(y_pred, axis=1))\n",
    "    precision = precision_score(y_true, y_pred, average=\"weighted\", zero_division=1)\n",
    "    recall = recall_score(y_true, y_pred, average=\"weighted\", zero_division=1)\n",
    "    f1 = f1_score(y_true, y_pred, average=\"weighted\", zero_division=1)\n",
    "\n",
    "    print(f\"Test Accuracy: {accuracy:.4f}\")\n",
    "    print(f\"Test Precision: {precision:.4f}\")\n",
    "    print(f\"Test Recall: {recall:.4f}\")\n",
    "    print(f\"Test F1-score: {f1:.4f}\")\n",
    "\n",
    "    print(\"\\nPer-Class Metrics:\")\n",
    "    print(classification_report(y_true, y_pred, target_names=disease_names, zero_division=1))\n",
    "\n",
    "    plot_confusion_matrix(y_true, y_pred, disease_names)\n",
    "\n",
    "evaluate_model(model, test_loader, device)\n"
   ]
  }
 ],
 "metadata": {
  "kaggle": {
   "accelerator": "nvidiaTeslaT4",
   "dataSources": [
    {
     "datasetId": 1370616,
     "sourceId": 2275763,
     "sourceType": "datasetVersion"
    }
   ],
   "dockerImageVersionId": 30918,
   "isGpuEnabled": true,
   "isInternetEnabled": true,
   "language": "python",
   "sourceType": "notebook"
  },
  "kernelspec": {
   "display_name": "Python 3",
   "language": "python",
   "name": "python3"
  },
  "language_info": {
   "codemirror_mode": {
    "name": "ipython",
    "version": 3
   },
   "file_extension": ".py",
   "mimetype": "text/x-python",
   "name": "python",
   "nbconvert_exporter": "python",
   "pygments_lexer": "ipython3",
   "version": "3.10.12"
  },
  "papermill": {
   "default_parameters": {},
   "duration": 412.702299,
   "end_time": "2025-03-26T00:16:26.176821",
   "environment_variables": {},
   "exception": null,
   "input_path": "__notebook__.ipynb",
   "output_path": "__notebook__.ipynb",
   "parameters": {},
   "start_time": "2025-03-26T00:09:33.474522",
   "version": "2.6.0"
  }
 },
 "nbformat": 4,
 "nbformat_minor": 5
}
